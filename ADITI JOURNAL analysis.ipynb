{
 "cells": [
  {
   "cell_type": "markdown",
   "id": "2fd99b76",
   "metadata": {},
   "source": [
    "# Import Libraries"
   ]
  },
  {
   "cell_type": "code",
   "execution_count": 1,
   "id": "377fcdf4",
   "metadata": {},
   "outputs": [],
   "source": [
    "# Pandas is the main library used for exploratory data analysis\n",
    "# Pandas is built on top of numpy \n",
    "import pandas as pd\n",
    "# Numpy allows fast advanced mathematical operations on large amount of data\n",
    "import numpy as np"
   ]
  },
  {
   "cell_type": "markdown",
   "id": "00276682",
   "metadata": {},
   "source": [
    "# Load Data"
   ]
  },
  {
   "cell_type": "code",
   "execution_count": 2,
   "id": "d0c2d8f8",
   "metadata": {},
   "outputs": [],
   "source": [
    "# Load the data -stored on your computer\n",
    "journal_df = pd.read_csv(\"Journal.csv\") # the suffix _df stands for dataframe\n"
   ]
  },
  {
   "cell_type": "code",
   "execution_count": 3,
   "id": "07dd31da",
   "metadata": {},
   "outputs": [
    {
     "data": {
      "text/html": [
       "<div>\n",
       "<style scoped>\n",
       "    .dataframe tbody tr th:only-of-type {\n",
       "        vertical-align: middle;\n",
       "    }\n",
       "\n",
       "    .dataframe tbody tr th {\n",
       "        vertical-align: top;\n",
       "    }\n",
       "\n",
       "    .dataframe thead th {\n",
       "        text-align: right;\n",
       "    }\n",
       "</style>\n",
       "<table border=\"1\" class=\"dataframe\">\n",
       "  <thead>\n",
       "    <tr style=\"text-align: right;\">\n",
       "      <th></th>\n",
       "      <th>date</th>\n",
       "      <th>sleep_hrs</th>\n",
       "      <th>exercise_hrs</th>\n",
       "      <th>book_hrs</th>\n",
       "      <th>study_hrs</th>\n",
       "      <th>entertainment_hrs</th>\n",
       "      <th>mood_score</th>\n",
       "      <th>feelings</th>\n",
       "      <th>weight_kgs</th>\n",
       "      <th>goals</th>\n",
       "      <th>menstrual_phase</th>\n",
       "    </tr>\n",
       "  </thead>\n",
       "  <tbody>\n",
       "    <tr>\n",
       "      <th>0</th>\n",
       "      <td>03/01/25</td>\n",
       "      <td>8.0</td>\n",
       "      <td>NaN</td>\n",
       "      <td>NaN</td>\n",
       "      <td>NaN</td>\n",
       "      <td>2.0</td>\n",
       "      <td>-2.0</td>\n",
       "      <td>Indiferent</td>\n",
       "      <td>64.2</td>\n",
       "      <td>ujuhiuwsh</td>\n",
       "      <td>Follicular</td>\n",
       "    </tr>\n",
       "    <tr>\n",
       "      <th>1</th>\n",
       "      <td>03/02/25</td>\n",
       "      <td>8.0</td>\n",
       "      <td>NaN</td>\n",
       "      <td>NaN</td>\n",
       "      <td>4.0</td>\n",
       "      <td>4.0</td>\n",
       "      <td>-1.0</td>\n",
       "      <td>Indiferent</td>\n",
       "      <td>64.0</td>\n",
       "      <td>vyuhvikaw</td>\n",
       "      <td>Follicular</td>\n",
       "    </tr>\n",
       "    <tr>\n",
       "      <th>2</th>\n",
       "      <td>03/03/25</td>\n",
       "      <td>7.0</td>\n",
       "      <td>0.25</td>\n",
       "      <td>NaN</td>\n",
       "      <td>5.0</td>\n",
       "      <td>1.0</td>\n",
       "      <td>1.0</td>\n",
       "      <td>Grateful, Fine</td>\n",
       "      <td>63.8</td>\n",
       "      <td>wgsyuxhv</td>\n",
       "      <td>Follicular</td>\n",
       "    </tr>\n",
       "    <tr>\n",
       "      <th>3</th>\n",
       "      <td>03/04/25</td>\n",
       "      <td>5.0</td>\n",
       "      <td>1.00</td>\n",
       "      <td>2.00</td>\n",
       "      <td>6.0</td>\n",
       "      <td>2.0</td>\n",
       "      <td>2.0</td>\n",
       "      <td>Frustrated, Angry, Fine</td>\n",
       "      <td>63.3</td>\n",
       "      <td>1.Innitiate Travel &amp; life tracker Analysis Pro...</td>\n",
       "      <td>Ovuliation</td>\n",
       "    </tr>\n",
       "    <tr>\n",
       "      <th>4</th>\n",
       "      <td>03/05/25</td>\n",
       "      <td>6.0</td>\n",
       "      <td>0.50</td>\n",
       "      <td>0.25</td>\n",
       "      <td>3.0</td>\n",
       "      <td>0.5</td>\n",
       "      <td>3.0</td>\n",
       "      <td>Fine</td>\n",
       "      <td>63.4</td>\n",
       "      <td>1. Populate Travel analysis, 2. Power BI, 3. F...</td>\n",
       "      <td>Ovuliation</td>\n",
       "    </tr>\n",
       "  </tbody>\n",
       "</table>\n",
       "</div>"
      ],
      "text/plain": [
       "       date  sleep_hrs  exercise_hrs  book_hrs  study_hrs  entertainment_hrs  \\\n",
       "0  03/01/25        8.0           NaN       NaN        NaN                2.0   \n",
       "1  03/02/25        8.0           NaN       NaN        4.0                4.0   \n",
       "2  03/03/25        7.0          0.25       NaN        5.0                1.0   \n",
       "3  03/04/25        5.0          1.00      2.00        6.0                2.0   \n",
       "4  03/05/25        6.0          0.50      0.25        3.0                0.5   \n",
       "\n",
       "   mood_score                 feelings  weight_kgs  \\\n",
       "0        -2.0               Indiferent        64.2   \n",
       "1        -1.0               Indiferent        64.0   \n",
       "2         1.0           Grateful, Fine        63.8   \n",
       "3         2.0  Frustrated, Angry, Fine        63.3   \n",
       "4         3.0                     Fine        63.4   \n",
       "\n",
       "                                               goals menstrual_phase  \n",
       "0                                          ujuhiuwsh      Follicular  \n",
       "1                                          vyuhvikaw      Follicular  \n",
       "2                                           wgsyuxhv      Follicular  \n",
       "3  1.Innitiate Travel & life tracker Analysis Pro...      Ovuliation  \n",
       "4  1. Populate Travel analysis, 2. Power BI, 3. F...      Ovuliation  "
      ]
     },
     "execution_count": 3,
     "metadata": {},
     "output_type": "execute_result"
    }
   ],
   "source": [
    "#rename column headers\n",
    "journal_df.columns = [\"date\", \"sleep_hrs\", \"exercise_hrs\", \"book_hrs\", \"study_hrs\", \n",
    "              \"entertainment_hrs\", \"mood_score\", \"feelings\", \"weight_kgs\", \"goals\", \"menstrual_phase\"]\n",
    "journal_df.head()"
   ]
  },
  {
   "cell_type": "code",
   "execution_count": 4,
   "id": "4bec60fb",
   "metadata": {},
   "outputs": [
    {
     "name": "stdout",
     "output_type": "stream",
     "text": [
      "<class 'pandas.core.frame.DataFrame'>\n"
     ]
    }
   ],
   "source": [
    "#Data type of the data frame\n",
    "print(type(journal_df))"
   ]
  },
  {
   "cell_type": "code",
   "execution_count": 5,
   "id": "1f047230",
   "metadata": {},
   "outputs": [
    {
     "name": "stdout",
     "output_type": "stream",
     "text": [
      "<class 'pandas.core.frame.DataFrame'>\n",
      "RangeIndex: 30 entries, 0 to 29\n",
      "Data columns (total 11 columns):\n",
      " #   Column             Non-Null Count  Dtype  \n",
      "---  ------             --------------  -----  \n",
      " 0   date               30 non-null     object \n",
      " 1   sleep_hrs          27 non-null     float64\n",
      " 2   exercise_hrs       25 non-null     float64\n",
      " 3   book_hrs           24 non-null     float64\n",
      " 4   study_hrs          26 non-null     float64\n",
      " 5   entertainment_hrs  27 non-null     float64\n",
      " 6   mood_score         27 non-null     float64\n",
      " 7   feelings           27 non-null     object \n",
      " 8   weight_kgs         28 non-null     float64\n",
      " 9   goals              28 non-null     object \n",
      " 10  menstrual_phase    27 non-null     object \n",
      "dtypes: float64(7), object(4)\n",
      "memory usage: 2.7+ KB\n"
     ]
    }
   ],
   "source": [
    "journal_df.info()"
   ]
  },
  {
   "cell_type": "code",
   "execution_count": 6,
   "id": "4accdf9a",
   "metadata": {},
   "outputs": [
    {
     "name": "stdout",
     "output_type": "stream",
     "text": [
      "(30, 11)\n",
      "30\n",
      "11\n"
     ]
    }
   ],
   "source": [
    "# shape will return as tuple containing the number of rows and columns\n",
    "print(journal_df.shape)\n",
    "print(journal_df.shape[0])\n",
    "print(journal_df.shape[1])"
   ]
  },
  {
   "cell_type": "markdown",
   "id": "f46bf676",
   "metadata": {},
   "source": [
    "# Data Cleaning "
   ]
  },
  {
   "cell_type": "markdown",
   "id": "239f556c",
   "metadata": {},
   "source": [
    "#### Check Data Type"
   ]
  },
  {
   "cell_type": "code",
   "execution_count": 7,
   "id": "f9ae2dda",
   "metadata": {},
   "outputs": [
    {
     "data": {
      "text/plain": [
       "date                  object\n",
       "sleep_hrs            float64\n",
       "exercise_hrs         float64\n",
       "book_hrs             float64\n",
       "study_hrs            float64\n",
       "entertainment_hrs    float64\n",
       "mood_score           float64\n",
       "feelings              object\n",
       "weight_kgs           float64\n",
       "goals                 object\n",
       "menstrual_phase       object\n",
       "dtype: object"
      ]
     },
     "execution_count": 7,
     "metadata": {},
     "output_type": "execute_result"
    }
   ],
   "source": [
    "#check data types\n",
    "journal_df.dtypes"
   ]
  },
  {
   "cell_type": "markdown",
   "id": "4712b606",
   "metadata": {},
   "source": [
    "#### Fix Data Type"
   ]
  },
  {
   "cell_type": "code",
   "execution_count": 8,
   "id": "dd9cba8a",
   "metadata": {},
   "outputs": [
    {
     "data": {
      "text/plain": [
       "date                 datetime64[ns]\n",
       "sleep_hrs                   float64\n",
       "exercise_hrs                float64\n",
       "book_hrs                    float64\n",
       "study_hrs                   float64\n",
       "entertainment_hrs           float64\n",
       "mood_score                  float64\n",
       "feelings                     object\n",
       "weight_kgs                  float64\n",
       "goals                        object\n",
       "menstrual_phase              object\n",
       "dtype: object"
      ]
     },
     "execution_count": 8,
     "metadata": {},
     "output_type": "execute_result"
    }
   ],
   "source": [
    "#Convert Strings into datetime\n",
    "journal_df['date'] = pd.to_datetime(journal_df['date'], format='%m/%d/%y')\n",
    "#Check Again\n",
    "journal_df.dtypes"
   ]
  },
  {
   "cell_type": "markdown",
   "id": "352007fe",
   "metadata": {},
   "source": [
    "#### Check for duplicate values"
   ]
  },
  {
   "cell_type": "code",
   "execution_count": 9,
   "id": "2a359fda",
   "metadata": {},
   "outputs": [
    {
     "name": "stdout",
     "output_type": "stream",
     "text": [
      "(30, 11)\n"
     ]
    }
   ],
   "source": [
    "#Check for duplicate values\n",
    "journal_df.drop_duplicates(inplace=True) # will keep first copy\n",
    "\n",
    "# reset the index\n",
    "# REf: https://pandas.pydata.org/pandas-docs/stable/reference/api/pandas.DataFrame.drop_duplicates.html\n",
    "journal_df.reset_index(drop=True, inplace=True) # reset to default integer index\n",
    "\n",
    "# Check\n",
    "print(journal_df.shape)"
   ]
  },
  {
   "cell_type": "markdown",
   "id": "b063ea4d",
   "metadata": {},
   "source": [
    "## Handle Missing Values"
   ]
  },
  {
   "cell_type": "markdown",
   "id": "1a1d5537",
   "metadata": {},
   "source": [
    "#### Check Missing Values"
   ]
  },
  {
   "cell_type": "code",
   "execution_count": 10,
   "id": "e560c0d5",
   "metadata": {},
   "outputs": [
    {
     "data": {
      "text/plain": [
       "date                 0\n",
       "sleep_hrs            3\n",
       "exercise_hrs         5\n",
       "book_hrs             6\n",
       "study_hrs            4\n",
       "entertainment_hrs    3\n",
       "mood_score           3\n",
       "feelings             3\n",
       "weight_kgs           2\n",
       "goals                2\n",
       "menstrual_phase      3\n",
       "dtype: int64"
      ]
     },
     "execution_count": 10,
     "metadata": {},
     "output_type": "execute_result"
    }
   ],
   "source": [
    "# Count of missing values in the whole dataframe by column\n",
    "#journal_df.isnull().count() # does not work - gives the count of non-null values\n",
    "#journal_df.isna().sum() # isna() is the same as isnull()\n",
    "\n",
    "journal_df.isnull().sum()"
   ]
  },
  {
   "cell_type": "markdown",
   "id": "d293eb50",
   "metadata": {},
   "source": [
    "#### Percentage of Missing Values (NaN)"
   ]
  },
  {
   "cell_type": "code",
   "execution_count": 11,
   "id": "04eb3b28",
   "metadata": {},
   "outputs": [
    {
     "name": "stdout",
     "output_type": "stream",
     "text": [
      "date                  0.0000\n",
      "sleep_hrs            10.0000\n",
      "exercise_hrs         16.6667\n",
      "book_hrs             20.0000\n",
      "study_hrs            13.3333\n",
      "entertainment_hrs    10.0000\n",
      "mood_score           10.0000\n",
      "feelings             10.0000\n",
      "weight_kgs            6.6667\n",
      "goals                 6.6667\n",
      "menstrual_phase      10.0000\n",
      "dtype: float64\n"
     ]
    },
    {
     "data": {
      "text/html": [
       "<div>\n",
       "<style scoped>\n",
       "    .dataframe tbody tr th:only-of-type {\n",
       "        vertical-align: middle;\n",
       "    }\n",
       "\n",
       "    .dataframe tbody tr th {\n",
       "        vertical-align: top;\n",
       "    }\n",
       "\n",
       "    .dataframe thead th {\n",
       "        text-align: right;\n",
       "    }\n",
       "</style>\n",
       "<table border=\"1\" class=\"dataframe\">\n",
       "  <thead>\n",
       "    <tr style=\"text-align: right;\">\n",
       "      <th></th>\n",
       "      <th>date</th>\n",
       "      <th>sleep_hrs</th>\n",
       "      <th>exercise_hrs</th>\n",
       "      <th>book_hrs</th>\n",
       "      <th>study_hrs</th>\n",
       "      <th>entertainment_hrs</th>\n",
       "      <th>mood_score</th>\n",
       "      <th>feelings</th>\n",
       "      <th>weight_kgs</th>\n",
       "      <th>goals</th>\n",
       "      <th>menstrual_phase</th>\n",
       "    </tr>\n",
       "  </thead>\n",
       "  <tbody>\n",
       "    <tr>\n",
       "      <th>0</th>\n",
       "      <td>2025-03-01</td>\n",
       "      <td>8.0</td>\n",
       "      <td>NaN</td>\n",
       "      <td>NaN</td>\n",
       "      <td>NaN</td>\n",
       "      <td>2.0</td>\n",
       "      <td>-2.0</td>\n",
       "      <td>Indiferent</td>\n",
       "      <td>64.2</td>\n",
       "      <td>ujuhiuwsh</td>\n",
       "      <td>Follicular</td>\n",
       "    </tr>\n",
       "    <tr>\n",
       "      <th>1</th>\n",
       "      <td>2025-03-02</td>\n",
       "      <td>8.0</td>\n",
       "      <td>NaN</td>\n",
       "      <td>NaN</td>\n",
       "      <td>4.0</td>\n",
       "      <td>4.0</td>\n",
       "      <td>-1.0</td>\n",
       "      <td>Indiferent</td>\n",
       "      <td>64.0</td>\n",
       "      <td>vyuhvikaw</td>\n",
       "      <td>Follicular</td>\n",
       "    </tr>\n",
       "    <tr>\n",
       "      <th>2</th>\n",
       "      <td>2025-03-03</td>\n",
       "      <td>7.0</td>\n",
       "      <td>0.25</td>\n",
       "      <td>NaN</td>\n",
       "      <td>5.0</td>\n",
       "      <td>1.0</td>\n",
       "      <td>1.0</td>\n",
       "      <td>Grateful, Fine</td>\n",
       "      <td>63.8</td>\n",
       "      <td>wgsyuxhv</td>\n",
       "      <td>Follicular</td>\n",
       "    </tr>\n",
       "    <tr>\n",
       "      <th>3</th>\n",
       "      <td>2025-03-04</td>\n",
       "      <td>5.0</td>\n",
       "      <td>1.00</td>\n",
       "      <td>2.00</td>\n",
       "      <td>6.0</td>\n",
       "      <td>2.0</td>\n",
       "      <td>2.0</td>\n",
       "      <td>Frustrated, Angry, Fine</td>\n",
       "      <td>63.3</td>\n",
       "      <td>1.Innitiate Travel &amp; life tracker Analysis Pro...</td>\n",
       "      <td>Ovuliation</td>\n",
       "    </tr>\n",
       "    <tr>\n",
       "      <th>4</th>\n",
       "      <td>2025-03-05</td>\n",
       "      <td>6.0</td>\n",
       "      <td>0.50</td>\n",
       "      <td>0.25</td>\n",
       "      <td>3.0</td>\n",
       "      <td>0.5</td>\n",
       "      <td>3.0</td>\n",
       "      <td>Fine</td>\n",
       "      <td>63.4</td>\n",
       "      <td>1. Populate Travel analysis, 2. Power BI, 3. F...</td>\n",
       "      <td>Ovuliation</td>\n",
       "    </tr>\n",
       "  </tbody>\n",
       "</table>\n",
       "</div>"
      ],
      "text/plain": [
       "        date  sleep_hrs  exercise_hrs  book_hrs  study_hrs  entertainment_hrs  \\\n",
       "0 2025-03-01        8.0           NaN       NaN        NaN                2.0   \n",
       "1 2025-03-02        8.0           NaN       NaN        4.0                4.0   \n",
       "2 2025-03-03        7.0          0.25       NaN        5.0                1.0   \n",
       "3 2025-03-04        5.0          1.00      2.00        6.0                2.0   \n",
       "4 2025-03-05        6.0          0.50      0.25        3.0                0.5   \n",
       "\n",
       "   mood_score                 feelings  weight_kgs  \\\n",
       "0        -2.0               Indiferent        64.2   \n",
       "1        -1.0               Indiferent        64.0   \n",
       "2         1.0           Grateful, Fine        63.8   \n",
       "3         2.0  Frustrated, Angry, Fine        63.3   \n",
       "4         3.0                     Fine        63.4   \n",
       "\n",
       "                                               goals menstrual_phase  \n",
       "0                                          ujuhiuwsh      Follicular  \n",
       "1                                          vyuhvikaw      Follicular  \n",
       "2                                           wgsyuxhv      Follicular  \n",
       "3  1.Innitiate Travel & life tracker Analysis Pro...      Ovuliation  \n",
       "4  1. Populate Travel analysis, 2. Power BI, 3. F...      Ovuliation  "
      ]
     },
     "execution_count": 11,
     "metadata": {},
     "output_type": "execute_result"
    }
   ],
   "source": [
    "# isna() - returns a dataframe of all boolean values True/False\n",
    "# Each value is tested  whether it's missing or not\n",
    "# Boolean values are treated as numeric 0/1 when doing arithmetic operations\n",
    "# So we can calculate the sum and mean of a column of boolean value\n",
    "# Instead of calculating the sum and dividing by the number of rows, we can use the mean directly\n",
    "\n",
    "percent_missing = round(journal_df.isna().mean() * 100, 4)\n",
    "print(percent_missing)\n",
    "journal_df.head()"
   ]
  },
  {
   "cell_type": "markdown",
   "id": "69031be9",
   "metadata": {},
   "source": [
    "#### Replace Missing Values(NaN) With 0"
   ]
  },
  {
   "cell_type": "code",
   "execution_count": 12,
   "id": "78485b16",
   "metadata": {},
   "outputs": [
    {
     "name": "stdout",
     "output_type": "stream",
     "text": [
      "date                 0.0\n",
      "sleep_hrs            0.0\n",
      "exercise_hrs         0.0\n",
      "book_hrs             0.0\n",
      "study_hrs            0.0\n",
      "entertainment_hrs    0.0\n",
      "mood_score           0.0\n",
      "feelings             0.0\n",
      "weight_kgs           0.0\n",
      "goals                0.0\n",
      "menstrual_phase      0.0\n",
      "dtype: float64\n"
     ]
    }
   ],
   "source": [
    "# Drop rows with missing values or fill them\n",
    "journal_df.dropna(subset=['goals'], inplace=True)  # Removing NaN from Goals column\n",
    "journal_df.fillna(0, inplace=True)  # Fill remaining NaNs with 0\n",
    "\n",
    "#Chcek again \n",
    "percent_missing = round(journal_df.isna().mean() * 100, 4)\n",
    "print(percent_missing)"
   ]
  },
  {
   "cell_type": "markdown",
   "id": "5e5b98c2",
   "metadata": {},
   "source": [
    "## Handle Outliners"
   ]
  },
  {
   "cell_type": "code",
   "execution_count": 13,
   "id": "f9586e2f",
   "metadata": {},
   "outputs": [],
   "source": [
    "#significantly different from the rest of the dataset. \n",
    "#unusually high or low values that don't follow the general pattern of the data.\n",
    "# Matplotlib is the main plotting library for python\n",
    "# Seaborn is built on top of matplotlib and it's easier to use\n",
    "# pandas also have same basic plotting capabilities which are again built on top of matplotlib\n",
    "import matplotlib.pyplot as plt\n",
    "# The next statement instructs matplotlib to plot the graphs inside the notebook\n",
    "%matplotlib inline \n",
    "import seaborn as sns"
   ]
  },
  {
   "cell_type": "markdown",
   "id": "8f8bcb6c",
   "metadata": {},
   "source": [
    "#### Visual Outliners"
   ]
  },
  {
   "cell_type": "code",
   "execution_count": 14,
   "id": "074e10e2",
   "metadata": {},
   "outputs": [
    {
     "data": {
      "image/png": "[encoded data removed]",
      "text/plain": [
       "<Figure size 1152x432 with 8 Axes>"
      ]
     },
     "metadata": {
      "needs_background": "light"
     },
     "output_type": "display_data"
    }
   ],
   "source": [
    "# Ref: https://seaborn.pydata.org/generated/seaborn.boxplot.html\n",
    "fig, ax = plt.subplots(2,4, figsize=(16,6))  # 2 rows and 4 columns\n",
    "\n",
    "# Row 0\n",
    "ax1 = sns.boxplot(y=journal_df[\"sleep_hrs\"], ax=ax[0,0]) # row 0, col 0\n",
    "ax2 = sns.boxplot(y=journal_df[\"exercise_hrs\"], ax=ax[0,1]) \n",
    "ax3 = sns.boxplot(y=journal_df[\"book_hrs\"], ax=ax[0,2])\n",
    "ax4 = sns.boxplot(y=journal_df[\"study_hrs\"], ax=ax[0,3])\n",
    "\n",
    "# Row 1\n",
    "ax5 = sns.boxplot(y=journal_df[\"entertainment_hrs\"], ax=ax[1,0])\n",
    "ax6 = sns.boxplot(y=journal_df[\"mood_score\"], ax=ax[1,1])\n",
    "ax7 = sns.boxplot(y=journal_df[\"weight_kgs\"], ax=ax[1,2])"
   ]
  },
  {
   "cell_type": "markdown",
   "id": "b2e47aea",
   "metadata": {},
   "source": [
    "#### Percentages of Outlier"
   ]
  },
  {
   "cell_type": "code",
   "execution_count": 15,
   "id": "cee036cc",
   "metadata": {},
   "outputs": [
    {
     "name": "stdout",
     "output_type": "stream",
     "text": [
      "['sleep_hrs', 'exercise_hrs', 'book_hrs', 'study_hrs', 'entertainment_hrs', 'mood_score', 'weight_kgs']\n",
      "\n",
      "col: sleep_hrs, lower: 2.375, upper: 11.375\n",
      "Num outliers: 1, total rows: 28, percent: 3.57\n",
      "\n",
      "col: exercise_hrs, lower: -0.875, upper: 2.125\n",
      "Num outliers: 0, total rows: 28, percent: 0.0\n",
      "\n",
      "col: book_hrs, lower: -0.40625, upper: 1.84375\n",
      "Num outliers: 3, total rows: 28, percent: 10.71\n",
      "\n",
      "col: study_hrs, lower: 0.0, upper: 8.0\n",
      "Num outliers: 0, total rows: 28, percent: 0.0\n",
      "\n",
      "col: entertainment_hrs, lower: -0.5, upper: 3.5\n",
      "Num outliers: 1, total rows: 28, percent: 3.57\n",
      "\n",
      "col: mood_score, lower: -5.5, upper: 6.5\n",
      "Num outliers: 0, total rows: 28, percent: 0.0\n",
      "\n",
      "col: weight_kgs, lower: 54.885000000000005, upper: 67.30499999999999\n",
      "Num outliers: 0, total rows: 28, percent: 0.0\n",
      "\n"
     ]
    }
   ],
   "source": [
    "# percentages of outlier per columns\n",
    "# Outliers only apply to continuous numerical values(not to strings or numerical categories)\n",
    "\n",
    "columns = ['sleep_hrs', 'exercise_hrs', 'book_hrs', 'study_hrs', \n",
    "              'entertainment_hrs', 'mood_score', 'weight_kgs']\n",
    "\n",
    "print(columns)\n",
    "print()\n",
    "\n",
    "for col in columns:\n",
    "    percentile_25 = journal_df[col].quantile(0.25)\n",
    "    percentile_75 = journal_df[col].quantile(0.75)\n",
    "    iqr = percentile_75 - percentile_25 # Inter Quartile Range\n",
    "    total = len(journal_df[col])\n",
    "    #total = journal_df[col].shape[0] # also works\n",
    "\n",
    "    # Determine the upper and lower boundaries for outliers\n",
    "    # The lower and upper boundaries are less than the bottom whisker or greater than the top whisker\n",
    "    #cut_off = iqr * 3    # three times IQR - for detecting extreme outliers\n",
    "    cut_off = iqr * 1.5  # normally use 1.5 times IQR\n",
    "    lower, upper = percentile_25 - cut_off, percentile_75 + cut_off\n",
    "    print(f\"col: {col}, lower: {lower}, upper: {upper}\")\n",
    "\n",
    "    # Count all values that are less than the lower boundary OR those that are greater than the upper boundary\n",
    "    #num_outliers = journal_df[(journal_df[col] < lower) | (journal_df[col] > upper)].count() # returns a list of things\n",
    "    num_outliers = len(journal_df[(journal_df[col] < lower) | (journal_df[col] > upper)])\n",
    "    \n",
    "    pc_outliers = round(num_outliers*100/total,2)\n",
    "    \n",
    "    print(f\"Num outliers: {num_outliers}, total rows: {total}, percent: {pc_outliers}\")\n",
    "    print()"
   ]
  },
  {
   "cell_type": "markdown",
   "id": "b69c9ecc",
   "metadata": {},
   "source": [
    "#### Replace Outliners with Median Value"
   ]
  },
  {
   "cell_type": "code",
   "execution_count": 16,
   "id": "2e698f7a",
   "metadata": {},
   "outputs": [
    {
     "name": "stdout",
     "output_type": "stream",
     "text": [
      "col: sleep_hrs, lower: 2.375, upper: 11.375,  median_val: 7.0\n",
      "col: exercise_hrs, lower: -0.875, upper: 2.125,  median_val: 0.5\n",
      "col: book_hrs, lower: -0.40625, upper: 1.84375,  median_val: 0.5\n",
      "col: study_hrs, lower: 0.0, upper: 8.0,  median_val: 4.0\n",
      "col: entertainment_hrs, lower: -0.5, upper: 3.5,  median_val: 1.5\n",
      "col: mood_score, lower: -5.5, upper: 6.5,  median_val: 1.0\n",
      "col: weight_kgs, lower: 54.885000000000005, upper: 67.30499999999999,  median_val: 61.095\n"
     ]
    },
    {
     "data": {
      "text/html": [
       "<div>\n",
       "<style scoped>\n",
       "    .dataframe tbody tr th:only-of-type {\n",
       "        vertical-align: middle;\n",
       "    }\n",
       "\n",
       "    .dataframe tbody tr th {\n",
       "        vertical-align: top;\n",
       "    }\n",
       "\n",
       "    .dataframe thead th {\n",
       "        text-align: right;\n",
       "    }\n",
       "</style>\n",
       "<table border=\"1\" class=\"dataframe\">\n",
       "  <thead>\n",
       "    <tr style=\"text-align: right;\">\n",
       "      <th></th>\n",
       "      <th>count</th>\n",
       "      <th>mean</th>\n",
       "      <th>std</th>\n",
       "      <th>min</th>\n",
       "      <th>25%</th>\n",
       "      <th>50%</th>\n",
       "      <th>75%</th>\n",
       "      <th>max</th>\n",
       "    </tr>\n",
       "  </thead>\n",
       "  <tbody>\n",
       "    <tr>\n",
       "      <th>sleep_hrs</th>\n",
       "      <td>28.0</td>\n",
       "      <td>6.750000</td>\n",
       "      <td>1.322876</td>\n",
       "      <td>5.00</td>\n",
       "      <td>6.0000</td>\n",
       "      <td>7.000</td>\n",
       "      <td>8.0000</td>\n",
       "      <td>10.0</td>\n",
       "    </tr>\n",
       "    <tr>\n",
       "      <th>exercise_hrs</th>\n",
       "      <td>28.0</td>\n",
       "      <td>0.705357</td>\n",
       "      <td>0.495599</td>\n",
       "      <td>0.00</td>\n",
       "      <td>0.2500</td>\n",
       "      <td>0.500</td>\n",
       "      <td>1.0000</td>\n",
       "      <td>1.5</td>\n",
       "    </tr>\n",
       "    <tr>\n",
       "      <th>book_hrs</th>\n",
       "      <td>28.0</td>\n",
       "      <td>0.580357</td>\n",
       "      <td>0.360385</td>\n",
       "      <td>0.00</td>\n",
       "      <td>0.4375</td>\n",
       "      <td>0.500</td>\n",
       "      <td>1.0000</td>\n",
       "      <td>1.0</td>\n",
       "    </tr>\n",
       "    <tr>\n",
       "      <th>study_hrs</th>\n",
       "      <td>28.0</td>\n",
       "      <td>4.000000</td>\n",
       "      <td>1.845916</td>\n",
       "      <td>0.00</td>\n",
       "      <td>3.0000</td>\n",
       "      <td>4.000</td>\n",
       "      <td>5.0000</td>\n",
       "      <td>7.0</td>\n",
       "    </tr>\n",
       "    <tr>\n",
       "      <th>entertainment_hrs</th>\n",
       "      <td>28.0</td>\n",
       "      <td>1.500000</td>\n",
       "      <td>0.707107</td>\n",
       "      <td>0.00</td>\n",
       "      <td>1.0000</td>\n",
       "      <td>1.250</td>\n",
       "      <td>2.0000</td>\n",
       "      <td>3.0</td>\n",
       "    </tr>\n",
       "    <tr>\n",
       "      <th>mood_score</th>\n",
       "      <td>28.0</td>\n",
       "      <td>0.500000</td>\n",
       "      <td>2.099383</td>\n",
       "      <td>-3.00</td>\n",
       "      <td>-1.0000</td>\n",
       "      <td>1.000</td>\n",
       "      <td>2.0000</td>\n",
       "      <td>4.0</td>\n",
       "    </tr>\n",
       "    <tr>\n",
       "      <th>weight_kgs</th>\n",
       "      <td>28.0</td>\n",
       "      <td>61.095000</td>\n",
       "      <td>1.892591</td>\n",
       "      <td>57.99</td>\n",
       "      <td>59.5425</td>\n",
       "      <td>61.095</td>\n",
       "      <td>62.6475</td>\n",
       "      <td>64.2</td>\n",
       "    </tr>\n",
       "  </tbody>\n",
       "</table>\n",
       "</div>"
      ],
      "text/plain": [
       "                   count       mean       std    min      25%     50%  \\\n",
       "sleep_hrs           28.0   6.750000  1.322876   5.00   6.0000   7.000   \n",
       "exercise_hrs        28.0   0.705357  0.495599   0.00   0.2500   0.500   \n",
       "book_hrs            28.0   0.580357  0.360385   0.00   0.4375   0.500   \n",
       "study_hrs           28.0   4.000000  1.845916   0.00   3.0000   4.000   \n",
       "entertainment_hrs   28.0   1.500000  0.707107   0.00   1.0000   1.250   \n",
       "mood_score          28.0   0.500000  2.099383  -3.00  -1.0000   1.000   \n",
       "weight_kgs          28.0  61.095000  1.892591  57.99  59.5425  61.095   \n",
       "\n",
       "                       75%   max  \n",
       "sleep_hrs           8.0000  10.0  \n",
       "exercise_hrs        1.0000   1.5  \n",
       "book_hrs            1.0000   1.0  \n",
       "study_hrs           5.0000   7.0  \n",
       "entertainment_hrs   2.0000   3.0  \n",
       "mood_score          2.0000   4.0  \n",
       "weight_kgs         62.6475  64.2  "
      ]
     },
     "execution_count": 16,
     "metadata": {},
     "output_type": "execute_result"
    }
   ],
   "source": [
    "# Using Inter Quartile Range (IQR) to detect outliers (for non-normal (non-Gaussian) distributions)\n",
    "\n",
    "columns = ['sleep_hrs', 'exercise_hrs', 'book_hrs', 'study_hrs', \n",
    "              'entertainment_hrs', 'mood_score', 'weight_kgs']\n",
    "\n",
    "for col in columns:\n",
    "    median_val = journal_df[col].quantile(0.50)\n",
    "    percentile_25 = journal_df[col].quantile(0.25)\n",
    "    percentile_75 = journal_df[col].quantile(0.75)\n",
    "    iqr = percentile_75 - percentile_25 # Inter Quartile Range\n",
    "    \n",
    "    # Determine the upper and lower boundaries for outliers\n",
    "    # The lower and upper boundaries are less than the bottom whisker or greater than the top whisker\n",
    "    #cut_off = iqr * 3    # three times IQR - for detecting extreme outliers\n",
    "    cut_off = iqr * 1.5  # normally use 1.5 times IQR\n",
    "    lower, upper = percentile_25 - cut_off, percentile_75 + cut_off\n",
    "    print(f\"col: {col}, lower: {lower}, upper: {upper},  median_val: {median_val}\")\n",
    "    \n",
    "    # Replace all outliers in column with median value\n",
    "    # Replace all values that are less than the lower boundary OR those that are greater than the upper boundary\n",
    "    journal_df[col] = np.where((journal_df[col] < lower) | (journal_df[col] > upper), median_val, journal_df[col])\n",
    " \n",
    "#journal_df.describe()\n",
    "journal_df.describe().T  # T means transpose - will transpose rows to column"
   ]
  },
  {
   "cell_type": "markdown",
   "id": "e32f2a2a",
   "metadata": {},
   "source": [
    "## View Cleaned Data "
   ]
  },
  {
   "cell_type": "code",
   "execution_count": 17,
   "id": "7c335439",
   "metadata": {},
   "outputs": [
    {
     "data": {
      "text/html": [
       "<div>\n",
       "<style scoped>\n",
       "    .dataframe tbody tr th:only-of-type {\n",
       "        vertical-align: middle;\n",
       "    }\n",
       "\n",
       "    .dataframe tbody tr th {\n",
       "        vertical-align: top;\n",
       "    }\n",
       "\n",
       "    .dataframe thead th {\n",
       "        text-align: right;\n",
       "    }\n",
       "</style>\n",
       "<table border=\"1\" class=\"dataframe\">\n",
       "  <thead>\n",
       "    <tr style=\"text-align: right;\">\n",
       "      <th></th>\n",
       "      <th>date</th>\n",
       "      <th>sleep_hrs</th>\n",
       "      <th>exercise_hrs</th>\n",
       "      <th>book_hrs</th>\n",
       "      <th>study_hrs</th>\n",
       "      <th>entertainment_hrs</th>\n",
       "      <th>mood_score</th>\n",
       "      <th>feelings</th>\n",
       "      <th>weight_kgs</th>\n",
       "      <th>goals</th>\n",
       "      <th>menstrual_phase</th>\n",
       "    </tr>\n",
       "  </thead>\n",
       "  <tbody>\n",
       "    <tr>\n",
       "      <th>0</th>\n",
       "      <td>2025-03-01</td>\n",
       "      <td>8.0</td>\n",
       "      <td>0.00</td>\n",
       "      <td>0.00</td>\n",
       "      <td>0.0</td>\n",
       "      <td>2.0</td>\n",
       "      <td>-2.0</td>\n",
       "      <td>Indiferent</td>\n",
       "      <td>64.2</td>\n",
       "      <td>ujuhiuwsh</td>\n",
       "      <td>Follicular</td>\n",
       "    </tr>\n",
       "    <tr>\n",
       "      <th>1</th>\n",
       "      <td>2025-03-02</td>\n",
       "      <td>8.0</td>\n",
       "      <td>0.00</td>\n",
       "      <td>0.00</td>\n",
       "      <td>4.0</td>\n",
       "      <td>1.5</td>\n",
       "      <td>-1.0</td>\n",
       "      <td>Indiferent</td>\n",
       "      <td>64.0</td>\n",
       "      <td>vyuhvikaw</td>\n",
       "      <td>Follicular</td>\n",
       "    </tr>\n",
       "    <tr>\n",
       "      <th>2</th>\n",
       "      <td>2025-03-03</td>\n",
       "      <td>7.0</td>\n",
       "      <td>0.25</td>\n",
       "      <td>0.00</td>\n",
       "      <td>5.0</td>\n",
       "      <td>1.0</td>\n",
       "      <td>1.0</td>\n",
       "      <td>Grateful, Fine</td>\n",
       "      <td>63.8</td>\n",
       "      <td>wgsyuxhv</td>\n",
       "      <td>Follicular</td>\n",
       "    </tr>\n",
       "    <tr>\n",
       "      <th>3</th>\n",
       "      <td>2025-03-04</td>\n",
       "      <td>5.0</td>\n",
       "      <td>1.00</td>\n",
       "      <td>0.50</td>\n",
       "      <td>6.0</td>\n",
       "      <td>2.0</td>\n",
       "      <td>2.0</td>\n",
       "      <td>Frustrated, Angry, Fine</td>\n",
       "      <td>63.3</td>\n",
       "      <td>1.Innitiate Travel &amp; life tracker Analysis Pro...</td>\n",
       "      <td>Ovuliation</td>\n",
       "    </tr>\n",
       "    <tr>\n",
       "      <th>4</th>\n",
       "      <td>2025-03-05</td>\n",
       "      <td>6.0</td>\n",
       "      <td>0.50</td>\n",
       "      <td>0.25</td>\n",
       "      <td>3.0</td>\n",
       "      <td>0.5</td>\n",
       "      <td>3.0</td>\n",
       "      <td>Fine</td>\n",
       "      <td>63.4</td>\n",
       "      <td>1. Populate Travel analysis, 2. Power BI, 3. F...</td>\n",
       "      <td>Ovuliation</td>\n",
       "    </tr>\n",
       "  </tbody>\n",
       "</table>\n",
       "</div>"
      ],
      "text/plain": [
       "        date  sleep_hrs  exercise_hrs  book_hrs  study_hrs  entertainment_hrs  \\\n",
       "0 2025-03-01        8.0          0.00      0.00        0.0                2.0   \n",
       "1 2025-03-02        8.0          0.00      0.00        4.0                1.5   \n",
       "2 2025-03-03        7.0          0.25      0.00        5.0                1.0   \n",
       "3 2025-03-04        5.0          1.00      0.50        6.0                2.0   \n",
       "4 2025-03-05        6.0          0.50      0.25        3.0                0.5   \n",
       "\n",
       "   mood_score                 feelings  weight_kgs  \\\n",
       "0        -2.0               Indiferent        64.2   \n",
       "1        -1.0               Indiferent        64.0   \n",
       "2         1.0           Grateful, Fine        63.8   \n",
       "3         2.0  Frustrated, Angry, Fine        63.3   \n",
       "4         3.0                     Fine        63.4   \n",
       "\n",
       "                                               goals menstrual_phase  \n",
       "0                                          ujuhiuwsh      Follicular  \n",
       "1                                          vyuhvikaw      Follicular  \n",
       "2                                           wgsyuxhv      Follicular  \n",
       "3  1.Innitiate Travel & life tracker Analysis Pro...      Ovuliation  \n",
       "4  1. Populate Travel analysis, 2. Power BI, 3. F...      Ovuliation  "
      ]
     },
     "execution_count": 17,
     "metadata": {},
     "output_type": "execute_result"
    }
   ],
   "source": [
    "journal_df.head()\n",
    "\n",
    "#journal_df.to_csv('journal-cleaned.csv', index=False) # Save in current folder"
   ]
  },
  {
   "cell_type": "markdown",
   "id": "e3e7eb9f",
   "metadata": {},
   "source": [
    "# Split Data Set"
   ]
  },
  {
   "cell_type": "code",
   "execution_count": 18,
   "id": "a8c4b195",
   "metadata": {},
   "outputs": [],
   "source": [
    "# Library for splitting the data into train and test sets\n",
    "from sklearn.model_selection import train_test_split \n",
    "# Store the features in variable X (uppercase as there are multiple features)\n",
    "\n",
    "# Features are variables that affect the target/label\n",
    "# So, it's all the columns excluding the target column f\n",
    "# You might want to experiment with both the full set and the best features\n",
    "# However random_state=2 # pass an int for reproducible rtesult\n",
    "                                                   \n",
    "feature_cols = ['sleep_hrs', 'exercise_hrs', 'book_hrs', 'study_hrs', \n",
    "                'entertainment_hrs', 'mood_score', 'weight_kgs']\n",
    "\n",
    "X = journal_df[feature_cols]\n",
    "#print('X:\\n', X)\n",
    "\n",
    "# Store the labels/target in variable y (lower case as its a single value)\n",
    "y = journal_df['mood_score']\n",
    "#print('y:\\n', y)\n",
    "\n",
    "# Split into train/test set\n",
    "X_train, X_test, y_train, y_test = train_test_split(X, \n",
    "                                                    y, \n",
    "                                                    test_size=0.2, # keep 20% for testing\n",
    "                                                    random_state=2 # pass an int for reproducible rtesult\n",
    "                                                    )"
   ]
  },
  {
   "cell_type": "code",
   "execution_count": 19,
   "id": "ea687fe8",
   "metadata": {},
   "outputs": [],
   "source": [
    "#X_train"
   ]
  },
  {
   "cell_type": "code",
   "execution_count": 20,
   "id": "3b41472f",
   "metadata": {},
   "outputs": [],
   "source": [
    "#X_test"
   ]
  },
  {
   "cell_type": "code",
   "execution_count": 21,
   "id": "eff5d83b",
   "metadata": {},
   "outputs": [],
   "source": [
    "#y_train"
   ]
  },
  {
   "cell_type": "code",
   "execution_count": 22,
   "id": "e590630e",
   "metadata": {},
   "outputs": [],
   "source": [
    "#y_test "
   ]
  },
  {
   "cell_type": "code",
   "execution_count": 23,
   "id": "9e72589e",
   "metadata": {},
   "outputs": [],
   "source": [
    "#train_test_split"
   ]
  },
  {
   "cell_type": "markdown",
   "id": "4dd491b8",
   "metadata": {},
   "source": [
    "# EDA"
   ]
  },
  {
   "cell_type": "markdown",
   "id": "5677ffa4",
   "metadata": {},
   "source": [
    "#### Summary statistics"
   ]
  },
  {
   "cell_type": "code",
   "execution_count": 24,
   "id": "1447a1d9",
   "metadata": {},
   "outputs": [
    {
     "name": "stdout",
     "output_type": "stream",
     "text": [
      "       sleep_hrs  exercise_hrs   book_hrs  study_hrs  entertainment_hrs  \\\n",
      "count  28.000000     28.000000  28.000000  28.000000          28.000000   \n",
      "mean    6.750000      0.705357   0.580357   4.000000           1.500000   \n",
      "std     1.322876      0.495599   0.360385   1.845916           0.707107   \n",
      "min     5.000000      0.000000   0.000000   0.000000           0.000000   \n",
      "25%     6.000000      0.250000   0.437500   3.000000           1.000000   \n",
      "50%     7.000000      0.500000   0.500000   4.000000           1.250000   \n",
      "75%     8.000000      1.000000   1.000000   5.000000           2.000000   \n",
      "max    10.000000      1.500000   1.000000   7.000000           3.000000   \n",
      "\n",
      "       mood_score  weight_kgs  \n",
      "count   28.000000   28.000000  \n",
      "mean     0.500000   61.095000  \n",
      "std      2.099383    1.892591  \n",
      "min     -3.000000   57.990000  \n",
      "25%     -1.000000   59.542500  \n",
      "50%      1.000000   61.095000  \n",
      "75%      2.000000   62.647500  \n",
      "max      4.000000   64.200000  \n",
      "Luteal        8\n",
      "Ovuliation    7\n",
      "Follicular    4\n",
      "PMS           4\n",
      "Medium        2\n",
      "0             1\n",
      "Heavy         1\n",
      "Light         1\n",
      "Name: menstrual_phase, dtype: int64\n",
      "Fine                                  7\n",
      "Indiferent                            4\n",
      "Happy                                 3\n",
      "Confident                             2\n",
      "0                                     1\n",
      "Grateful, Fine                        1\n",
      "Sensitive                             1\n",
      "Anxious                               1\n",
      "Overwhelmed, Sad, Angry               1\n",
      "Mood Swings, Sad, Anxious             1\n",
      "Frustrated, Angry, Fine               1\n",
      "Stressed, Overwhelmed, Mood Swings    1\n",
      "Frustrated                            1\n",
      "Grateful                              1\n",
      "Angry, Sensitive, Insecure            1\n",
      "Stressed                              1\n",
      "Name: feelings, dtype: int64\n"
     ]
    }
   ],
   "source": [
    "print(journal_df.describe())# Shows mean, min, max, etc., for numerical columns\n",
    "\n",
    "# Check unique values in categorical columns\n",
    "print(journal_df['menstrual_phase'].value_counts())\n",
    "print(journal_df['feelings'].value_counts())"
   ]
  },
  {
   "cell_type": "markdown",
   "id": "996d200d",
   "metadata": {},
   "source": [
    "#### Distributions"
   ]
  },
  {
   "cell_type": "code",
   "execution_count": 25,
   "id": "f228b75b",
   "metadata": {},
   "outputs": [
    {
     "data": {
      "image/png": "[encoded data removed]",
      "text/plain": [
       "<Figure size 432x288 with 1 Axes>"
      ]
     },
     "metadata": {
      "needs_background": "light"
     },
     "output_type": "display_data"
    }
   ],
   "source": [
    "import seaborn as sns\n",
    "import matplotlib.pyplot as plt\n",
    "\n",
    "# Histogram of Sleep Hours\n",
    "sns.histplot(journal_df['sleep_hrs'], bins=10, kde=True)\n",
    "plt.title('Distribution of Sleep Hours')\n",
    "plt.show()"
   ]
  },
  {
   "cell_type": "markdown",
   "id": "15ca8519",
   "metadata": {},
   "source": [
    "# Data Transfromation "
   ]
  },
  {
   "cell_type": "markdown",
   "id": "d3ed4199",
   "metadata": {},
   "source": [
    "#### One-hot Encoded"
   ]
  },
  {
   "cell_type": "code",
   "execution_count": null,
   "id": "e403b0d0",
   "metadata": {},
   "outputs": [],
   "source": [
    "# Libary needed for onehot encoder\n",
    "from sklearn.preprocessing import OneHotEncoder\n",
    "from sklearn.preprocessing import LabelBinarizer\n",
    "\n",
    "# 1. Select the columns to one-hot encode\n",
    "# Make sure the columns are categorical columns with multiple labels \n",
    "# It does not matter whether the labels are words or numbers\n",
    "# Better list all the columns and comment out the ones you don't need\n",
    "columns_to_onehot_encode = [#\"date\", \n",
    "                             \"sleep_hrs\", \n",
    "                             \"exercise_hrs\", \n",
    "                             \"book_hrs\", \n",
    "                             \"study_hrs\", \n",
    "                             \"entertainment_hrs\", \n",
    "                             \"mood_score\", \n",
    "                             #\"feelings\", \n",
    "                             \"weight_kgs\", \n",
    "                             #\"goals\", \n",
    "                             #\"menstrual_phase\"\n",
    "]\n",
    "\n",
    "# 2 Instantiate a one-hot encoder\n",
    "#enc = OneHotEncoder() # No, this will generate strings, not numbers\n",
    "enc = LabelBinarizer()\n",
    "\n",
    "# 3. Fit the encoder on the training column and transform the training and testing columns\n",
    "# Use a loop to label encode all the required columns \n",
    "for col in columns_to_onehot_encode:\n",
    "    # Option 1. Using pandas (simpler than sklearn)\n",
    "    ## Fix X_train\n",
    "    dummies_df = pd.get_dummies(X_train[col]) # generate dataframe of dummies\n",
    "    X_train.drop([col], axis=1, inplace=True) # drop original column\n",
    "    X_train = pd.concat([X_train, dummies_df], axis=1) # concatenate both dataframes\n",
    "    ## Fix X_test\n",
    "    dummies_df = pd.get_dummies(X_test[col])\n",
    "    X_test.drop([col], axis=1, inplace=True)\n",
    "    X_test = pd.concat([X_test, dummies_df], axis=1)\n",
    "   \n",
    "# Check\n",
    "X_train.head()\n"
   ]
  },
  {
   "cell_type": "markdown",
   "id": "e09c37f6",
   "metadata": {},
   "source": [
    "# Scaling  "
   ]
  },
  {
   "cell_type": "code",
   "execution_count": null,
   "id": "fe9df199",
   "metadata": {},
   "outputs": [],
   "source": [
    "# Library to scale values\n",
    "from sklearn.preprocessing import StandardScaler\n",
    "# Scale the columns with continuous values\n",
    "# 1. Select the columns to scale\n",
    "# Make sure they are continuous columns as scaling is only for continuous values\n",
    "# Better list all the columns and comment out the ones you don't need\n",
    "columns_to_scale = [\n",
    "                    'sleep_hrs', \n",
    "                    'exercise_hrs', \n",
    "                    'book_hrs', \n",
    "                    'study_hrs',\n",
    "                    'entertainment_hrs', \n",
    "                    'mood_score', \n",
    "                     \n",
    "                    'weight_kgs'\n",
    "]\n",
    "\n",
    "# 2. Make copy of the training and testing sets fix the issue below\n",
    "# Warning: A value is trying to be set on a copy of a slice from a DataFrame.\n",
    "# Try using .loc[row_indexer,col_indexer] = value instead\n",
    "X_train = X_train.copy()\n",
    "X_test = X_test.copy()\n",
    "\n",
    "# 3. Instantiate a scaler\n",
    "scaler = StandardScaler()\n",
    "\n",
    "#print(journal_df.columns)  # Check column names\n",
    "\n",
    "# 4. Fit the scaler on the training column and transform the training and testing columns\n",
    "# Use a loop to scale all the required columns    \n",
    "for col in columns_to_scale:\n",
    "    #print(col)\n",
    "    # First fit the scaler to the column in the training data\n",
    "    # Must reshape the numpy array returned b the scaler from 1D to 2D\n",
    "    scaler.fit(X_train[col].values.reshape(-1, 1))\n",
    "    # Then transform both the training and testing sets\n",
    "    X_train[col] = scaler.transform(X_train[col].values.reshape(-1, 1))\n",
    "    X_test[col] = scaler.transform(X_test[col].values.reshape(-1, 1))\n",
    "\n",
    "# Check\n",
    "print(X_train.shape, X_test.shape)"
   ]
  },
  {
   "cell_type": "code",
   "execution_count": null,
   "id": "8d4f6ae5",
   "metadata": {},
   "outputs": [],
   "source": [
    "# Check again\n",
    "#X_train.head()"
   ]
  },
  {
   "cell_type": "code",
   "execution_count": null,
   "id": "1c2cacd1",
   "metadata": {},
   "outputs": [],
   "source": [
    "# Check again\n",
    "#X_test.head()"
   ]
  },
  {
   "cell_type": "code",
   "execution_count": null,
   "id": "983f0854",
   "metadata": {},
   "outputs": [],
   "source": []
  },
  {
   "cell_type": "code",
   "execution_count": null,
   "id": "1be928f0",
   "metadata": {},
   "outputs": [],
   "source": []
  },
  {
   "cell_type": "code",
   "execution_count": null,
   "id": "d186800a",
   "metadata": {},
   "outputs": [],
   "source": []
  },
  {
   "cell_type": "markdown",
   "id": "6b2d44dd",
   "metadata": {},
   "source": [
    "# Modeling "
   ]
  },
  {
   "cell_type": "markdown",
   "id": "50528c59",
   "metadata": {},
   "source": [
    "## Linear Regression"
   ]
  },
  {
   "cell_type": "code",
   "execution_count": 26,
   "id": "253b7be3",
   "metadata": {},
   "outputs": [
    {
     "data": {
      "text/plain": [
       "array([-1.00000000e+00, -2.00000000e+00,  8.11534314e-16,  1.00000000e+00,\n",
       "       -3.00000000e+00, -2.00000000e+00])"
      ]
     },
     "execution_count": 26,
     "metadata": {},
     "output_type": "execute_result"
    }
   ],
   "source": [
    "#Train a model\n",
    "from sklearn.linear_model import LinearRegression\n",
    "# Train the model\n",
    "model = LinearRegression()\n",
    "model.fit(X_train, y_train)\n",
    "\n",
    "# Predictions\n",
    "y_pred = model.predict(X_test)\n",
    "y_pred"
   ]
  },
  {
   "cell_type": "markdown",
   "id": "4b0dd8c1",
   "metadata": {},
   "source": [
    "#### Evaluation(Performance Score- -LR)"
   ]
  },
  {
   "cell_type": "code",
   "execution_count": 27,
   "id": "66240c36",
   "metadata": {},
   "outputs": [
    {
     "name": "stdout",
     "output_type": "stream",
     "text": [
      "R² Score: 1.00\n",
      "Mean Squared Error: 0.00\n"
     ]
    }
   ],
   "source": [
    "from sklearn.metrics import mean_squared_error, r2_score\n",
    "# Model Performance\n",
    "r2 = r2_score(y_test, y_pred)\n",
    "mse = mean_squared_error(y_test, y_pred)\n",
    "\n",
    "print(f\"R² Score: {r2:.2f}\")  # Closer to 1 means better fit\n",
    "print(f\"Mean Squared Error: {mse:.2f}\")  # Lower is better"
   ]
  },
  {
   "cell_type": "code",
   "execution_count": null,
   "id": "17a3640b",
   "metadata": {},
   "outputs": [],
   "source": []
  },
  {
   "cell_type": "markdown",
   "id": "e92aab72",
   "metadata": {},
   "source": [
    "# Visualize"
   ]
  },
  {
   "cell_type": "markdown",
   "id": "7842df5f",
   "metadata": {},
   "source": [
    "#### Mood Score Over Time"
   ]
  },
  {
   "cell_type": "code",
   "execution_count": 28,
   "id": "5d4fd714",
   "metadata": {},
   "outputs": [
    {
     "data": {
      "image/png": "[encoded data removed]",
      "text/plain": [
       "<Figure size 720x360 with 1 Axes>"
      ]
     },
     "metadata": {
      "needs_background": "light"
     },
     "output_type": "display_data"
    }
   ],
   "source": [
    "plt.figure(figsize=(10, 5))\n",
    "sns.lineplot(x=journal_df['date'], y=journal_df['mood_score'])\n",
    "plt.title('Mood Score Over Time')\n",
    "plt.xticks(rotation=45)\n",
    "plt.show()"
   ]
  },
  {
   "cell_type": "markdown",
   "id": "35b36d29",
   "metadata": {},
   "source": [
    "#### Sleep Hours vs. Mood Score"
   ]
  },
  {
   "cell_type": "code",
   "execution_count": 29,
   "id": "6f4eb2ee",
   "metadata": {},
   "outputs": [
    {
     "data": {
      "image/png": "[encoded data removed]",
      "text/plain": [
       "<Figure size 432x288 with 1 Axes>"
      ]
     },
     "metadata": {
      "needs_background": "light"
     },
     "output_type": "display_data"
    }
   ],
   "source": [
    "sns.scatterplot(x=journal_df['sleep_hrs'], y=journal_df['mood_score'])\n",
    "plt.title('Sleep Hours vs. Mood Score')\n",
    "plt.show()"
   ]
  },
  {
   "cell_type": "markdown",
   "id": "9c96a1fc",
   "metadata": {},
   "source": [
    "#### Exercise vs. Weight"
   ]
  },
  {
   "cell_type": "code",
   "execution_count": 30,
   "id": "ee8e5f8b",
   "metadata": {},
   "outputs": [
    {
     "data": {
      "image/png": "[encoded data removed]",
      "text/plain": [
       "<Figure size 432x288 with 1 Axes>"
      ]
     },
     "metadata": {
      "needs_background": "light"
     },
     "output_type": "display_data"
    }
   ],
   "source": [
    "sns.regplot(x=journal_df['exercise_hrs'], y=journal_df['weight_kgs'])\n",
    "plt.title('Exercise vs. Weight')\n",
    "plt.show()"
   ]
  },
  {
   "cell_type": "markdown",
   "id": "9a82c4fb",
   "metadata": {},
   "source": [
    "#### Mood Score Across Menstrual Phases"
   ]
  },
  {
   "cell_type": "code",
   "execution_count": 31,
   "id": "281ed046",
   "metadata": {},
   "outputs": [
    {
     "data": {
      "image/png": "[encoded data removed]",
      "text/plain": [
       "<Figure size 432x288 with 1 Axes>"
      ]
     },
     "metadata": {
      "needs_background": "light"
     },
     "output_type": "display_data"
    }
   ],
   "source": [
    "sns.boxplot(x=journal_df['menstrual_phase'], y=journal_df['mood_score'])\n",
    "plt.title('Mood Score Across Menstrual Phases')\n",
    "plt.xticks(rotation=45)\n",
    "plt.show()"
   ]
  },
  {
   "cell_type": "markdown",
   "id": "bf44fa79",
   "metadata": {},
   "source": [
    "#### Correlation Matrix"
   ]
  },
  {
   "cell_type": "code",
   "execution_count": 32,
   "id": "42f83f1b",
   "metadata": {},
   "outputs": [
    {
     "data": {
      "image/png": "[encoded data removed]",
      "text/plain": [
       "<Figure size 432x288 with 2 Axes>"
      ]
     },
     "metadata": {
      "needs_background": "light"
     },
     "output_type": "display_data"
    }
   ],
   "source": [
    "correlation_matrix = journal_df.corr()\n",
    "sns.heatmap(correlation_matrix, annot=True, cmap=\"coolwarm\")\n",
    "plt.title(\"Correlation Matrix\")\n",
    "plt.show()"
   ]
  },
  {
   "cell_type": "markdown",
   "id": "4743c2ea",
   "metadata": {},
   "source": [
    "#### Study & Book Reading Trends"
   ]
  },
  {
   "cell_type": "code",
   "execution_count": 33,
   "id": "fa4a3e15",
   "metadata": {},
   "outputs": [
    {
     "data": {
      "image/png": "[encoded data removed]",
      "text/plain": [
       "<Figure size 432x288 with 1 Axes>"
      ]
     },
     "metadata": {
      "needs_background": "light"
     },
     "output_type": "display_data"
    }
   ],
   "source": [
    "sns.lineplot(x=journal_df['date'], y=journal_df['study_hrs'], label=\"Study Hours\")\n",
    "sns.lineplot(x=journal_df['date'], y=journal_df['book_hrs'], label=\"Book Reading Hours\")\n",
    "plt.legend()\n",
    "plt.title(\"Study & Book Reading Trends\")\n",
    "plt.xticks(rotation=90)\n",
    "plt.show()"
   ]
  },
  {
   "cell_type": "code",
   "execution_count": null,
   "id": "9faca688",
   "metadata": {},
   "outputs": [],
   "source": []
  }
 ],
 "metadata": {
  "kernelspec": {
   "display_name": "Python 3",
   "language": "python",
   "name": "python3"
  },
  "language_info": {
   "codemirror_mode": {
    "name": "ipython",
    "version": 3
   },
   "file_extension": ".py",
   "mimetype": "text/x-python",
   "name": "python",
   "nbconvert_exporter": "python",
   "pygments_lexer": "ipython3",
   "version": "3.8.8"
  }
 },
 "nbformat": 4,
 "nbformat_minor": 5
}
